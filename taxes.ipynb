{
 "cells": [
  {
   "cell_type": "code",
   "execution_count": 1,
   "id": "af531067-e529-488a-b818-19394b25a8b1",
   "metadata": {},
   "outputs": [],
   "source": [
    "# константы для sp. z o.o.\n",
    "spzoo_cit = 0.19 # налог на прибыль юр. лица\n",
    "spzoo_zus = 0.07\n",
    "spzoo_tax = 0.19 # налог на дивиденды"
   ]
  },
  {
   "cell_type": "code",
   "execution_count": 2,
   "id": "b6a278da-5213-411a-9da9-fcba1f5ecd01",
   "metadata": {},
   "outputs": [],
   "source": [
    "# константы jdg\n",
    "cits = {}"
   ]
  },
  {
   "cell_type": "code",
   "execution_count": 3,
   "id": "a50a3796-68b0-4a4c-960d-b9177f56e7fb",
   "metadata": {},
   "outputs": [],
   "source": [
    "# Skala podatkowa (na zasadach ogólnych, общий налог) - налог доступный по умолчанию при регистрации JDG и единственный доступный для работников по найму (UoP).\n",
    "# Составляет 12% для доходов от 30 до 120 тыс. зл. и 32% - для всего, что выше.\n",
    "# Доход до 30 тыс. зл. налогом не облагается.\n",
    "# Этот налог позволяет уменьшить налогооблагаемый доход за счет необходимых для деятельности расходов (ноутбук, монитор, бухгалтерия, ПО и т.д.).\n",
    "# Также позволяет подать налоговую декларацию вместе с супругом, что при отсутствии дохода у одного из супругов, уменьшает налогооблагаемый доход за счет дополнительных 30 тыс. зл. не облагаемого дохода.\n",
    "cits[\"jdg.og\"] = (\n",
    "    (30000, 0), # от 0 до 30к pln\n",
    "    (120000, 0.12), # от 30 до 120к pln\n",
    "    (1000000000, 0.32), # от 120к pln\n",
    ")"
   ]
  },
  {
   "cell_type": "code",
   "execution_count": 4,
   "id": "53db0398-b8a0-4415-b245-28ecf99c9832",
   "metadata": {},
   "outputs": [],
   "source": [
    "# Podatek liniowy (пропорциональный налог) - некогда (до популяризации ryczałtu) самый выгодный налог в едином размере 19% вне зависимости от размера доходов для тех,\n",
    "# значительная часть дохода которых попадала под 32% общего налога.\n",
    "# Отличительной особенностью пропорционального налога (podatek liniowy) на фоне фиксированного (ryczałt) является возможность уменьшения налогооблагаемой суммы за счет расходов, так же как и в случае с общим налогом (skala podatkowa).\n",
    "# Но, в отличии от общего налога, доход до 30 тыс. зл. налогом облагается, а совместная подача налоговой декларации с супругом недоступна.\n",
    "jdg_lin_cit = (\n",
    "   (1000000000, 0.19), # от 0\n",
    ")"
   ]
  },
  {
   "cell_type": "code",
   "execution_count": 5,
   "id": "e5daa199-f9a2-4b7c-a1fa-e6510df3e8f7",
   "metadata": {},
   "outputs": [],
   "source": [
    "# Ryczałt (фиксированный налог) - ныне очень популярный налог в размере от 2% до 17% в зависимости от вида деятельности JDG.\n",
    "# Для программистов - 12%.\n",
    "# Важный нюанс этого налога в том, что расходы никак не влияют на налогооблагаемый доход, т.е. налог рассчитывается исключительно на основании полученного дохода.\n",
    "# Так как и при пропорциональном налоге (podatek liniowy), доход до 30 тыс. зл. налогом облагается, а подача налоговой декларации с супругом недоступна.\n",
    "jdg_rycz_cit = (\n",
    "   (1000000000, 0.12), # от 0\n",
    ")\n",
    "jdg_rycz_cit_cons = 0.32"
   ]
  },
  {
   "cell_type": "code",
   "execution_count": 6,
   "id": "d65af40e-fc60-442a-a877-f79dcb9faee1",
   "metadata": {},
   "outputs": [],
   "source": [
    "# выручка - revenue\n",
    "income = 25000 # доход - income\n",
    "# прибыль - profit\n",
    "expense = 0 # расход - expense"
   ]
  },
  {
   "cell_type": "code",
   "execution_count": 7,
   "id": "9dec46d3-c09f-44dc-a916-90d7498aa4fe",
   "metadata": {},
   "outputs": [
    {
     "name": "stdout",
     "output_type": "stream",
     "text": [
      "4750.0\n"
     ]
    }
   ],
   "source": [
    "# sp. z o.o.\n",
    "# 1 фаундер\n",
    "print((income - expense) * spzoo_cit)"
   ]
  },
  {
   "cell_type": "code",
   "execution_count": 27,
   "id": "f923f856-79c0-4b14-ab93-c0cc04c622c0",
   "metadata": {},
   "outputs": [
    {
     "name": "stdout",
     "output_type": "stream",
     "text": [
      "income=25000 expense=0 cits=((30000, 0), (120000, 0.12), (1000000000, 0.32))\n",
      "[1] base=25000 total=0 [0, 0, 0, 0, 0, 0, 0, 0, 0, 0, 0, 0] taxrange=(30000, 0) \n",
      "[2] base=25000 total=25000 [25000, 0, 0, 0, 0, 0, 0, 0, 0, 0, 0, 0] taxrange=(30000, 0) \n",
      "[2] !!! low=20000 high=5000\n",
      "[2] base=5000 total=45000 [25000, 20000, 0, 0, 0, 0, 0, 0, 0, 0, 0, 0] taxrange=(120000, 0.12) \n",
      "[3] base=25000 total=49400.0 [25000, 24400.0, 0, 0, 0, 0, 0, 0, 0, 0, 0, 0] taxrange=(120000, 0.12) \n",
      "[4] base=25000 total=71400.0 [25000, 24400.0, 22000.0, 0, 0, 0, 0, 0, 0, 0, 0, 0] taxrange=(120000, 0.12) \n",
      "[5] base=25000 total=93400.0 [25000, 24400.0, 22000.0, 22000.0, 0, 0, 0, 0, 0, 0, 0, 0] taxrange=(120000, 0.12) \n",
      "[6] base=25000 total=115400.0 [25000, 24400.0, 22000.0, 22000.0, 22000.0, 0, 0, 0, 0, 0, 0, 0] taxrange=(120000, 0.12) \n",
      "[6] !!! low=20400.0 high=4600.0\n",
      "[6] base=4600.0 total=133352.0 [25000, 24400.0, 22000.0, 22000.0, 22000.0, 17952.0, 0, 0, 0, 0, 0, 0] taxrange=(1000000000, 0.32) \n",
      "[7] base=25000 total=136480.0 [25000, 24400.0, 22000.0, 22000.0, 22000.0, 21080.0, 0, 0, 0, 0, 0, 0] taxrange=(1000000000, 0.32) \n",
      "[8] base=25000 total=153480.0 [25000, 24400.0, 22000.0, 22000.0, 22000.0, 21080.0, 17000.0, 0, 0, 0, 0, 0] taxrange=(1000000000, 0.32) \n",
      "[9] base=25000 total=170480.0 [25000, 24400.0, 22000.0, 22000.0, 22000.0, 21080.0, 17000.0, 17000.0, 0, 0, 0, 0] taxrange=(1000000000, 0.32) \n",
      "[10] base=25000 total=187480.0 [25000, 24400.0, 22000.0, 22000.0, 22000.0, 21080.0, 17000.0, 17000.0, 17000.0, 0, 0, 0] taxrange=(1000000000, 0.32) \n",
      "[11] base=25000 total=204480.0 [25000, 24400.0, 22000.0, 22000.0, 22000.0, 21080.0, 17000.0, 17000.0, 17000.0, 17000.0, 0, 0] taxrange=(1000000000, 0.32) \n",
      "[12] base=25000 total=221480.0 [25000, 24400.0, 22000.0, 22000.0, 22000.0, 21080.0, 17000.0, 17000.0, 17000.0, 17000.0, 17000.0, 0] taxrange=(1000000000, 0.32) \n",
      "TOTAL: 238480.0 [25000, 24400.0, 22000.0, 22000.0, 22000.0, 21080.0, 17000.0, 17000.0, 17000.0, 17000.0, 17000.0, 17000.0]\n"
     ]
    }
   ],
   "source": [
    "# jdg - na zasadach ogólnych\n",
    "monthly_profits = [0] * 12\n",
    "cit_map = cits[\"jdg.og\"]\n",
    "cit_idx = 0\n",
    "print(\"income={} expense={} cits={}\".format(income, expense, cit_map))\n",
    "\n",
    "month, month_profit, month_income, month_expense = -1, 0, income, expense\n",
    "while True:\n",
    "    month+=1\n",
    "    if month > 11:\n",
    "        break\n",
    "    cit_base = month_income - month_expense\n",
    "    cit_check = sum(monthly_profits) + cit_base\n",
    "    cit_limit, cit_value = cit_map[cit_idx]\n",
    "    print(\"[{}] base={} total={} {} taxrange={} \".format(month+1, cit_base, sum(monthly_profits), monthly_profits, cit_map[cit_idx]))\n",
    "    if cit_limit - cit_check >= 0:\n",
    "        # накопленная прибыль внутри рамок данного налогового диапазона - на всю прибыль один налог\n",
    "        monthly_profits[month] += cit_base * (1 - cit_value)\n",
    "        month_profit, month_income, month_expense = 0, income, expense\n",
    "    else:\n",
    "        # накопленная прибыль превышает лимит\n",
    "        # на часть внутри - данные лимиты\n",
    "        low = cit_check - cit_limit\n",
    "        monthly_profits[month] += low * (1 - cit_value)\n",
    "\n",
    "        high = cit_base - low\n",
    "        print(\"[{}] !!! low={} high={}\".format(month+1, low, high))\n",
    "        # превышение -> переносим на \"фейковый месяц\"\n",
    "        month_income, month_expense = high, 0\n",
    "        cit_idx += 1 # следующий налоговый диапазон\n",
    "        month-=1\n",
    "    #print(\"[{}] sum={} {} tax={}\".format(month, sum(monthly_profits), monthly_profits, 0))\n",
    "print(\"TOTAL: {} {}\".format(sum(monthly_profits), monthly_profits))\n"
   ]
  },
  {
   "cell_type": "code",
   "execution_count": null,
   "id": "28f06858-4199-40dd-8796-2cf3e5dfbe29",
   "metadata": {},
   "outputs": [],
   "source": [
    "# jdg - liniowy"
   ]
  },
  {
   "cell_type": "code",
   "execution_count": null,
   "id": "af4e8ec9-8ce6-486f-8128-1b93e6f33698",
   "metadata": {},
   "outputs": [],
   "source": [
    "# jdg - ryczałt"
   ]
  }
 ],
 "metadata": {
  "kernelspec": {
   "display_name": "Python 3 (ipykernel)",
   "language": "python",
   "name": "python3"
  },
  "language_info": {
   "codemirror_mode": {
    "name": "ipython",
    "version": 3
   },
   "file_extension": ".py",
   "mimetype": "text/x-python",
   "name": "python",
   "nbconvert_exporter": "python",
   "pygments_lexer": "ipython3",
   "version": "3.10.8"
  }
 },
 "nbformat": 4,
 "nbformat_minor": 5
}
